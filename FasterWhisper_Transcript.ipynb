import whisper
import time

start_time = time.time()

video_path = 'Vídeo ML Flow.mp3'
model = whisper.load_model("turbo")
result = model.transcribe(video_path)

with open("Transcript_Whisper_Turbo.txt", "w") as f:
    f.write(result["text"])

    end_time = time.time()
    elapsed_time = end_time - start_time

print (f'Tempo gasto na tradução: {elapsed_time} segundos')
