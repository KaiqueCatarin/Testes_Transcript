{
 "cells": [
  {
   "cell_type": "code",
   "execution_count": null,
   "metadata": {},
   "outputs": [],
   "source": [
    "import whisper\n",
    "import time\n",
    "\n",
    "start_time = time.time()\n",
    "\n",
    "video_path = 'Vídeo ML Flow.mp3'\n",
    "model = whisper.load_model(\"turbo\")\n",
    "result = model.transcribe(video_path)\n",
    "\n",
    "with open(\"Transcript_Whisper_Turbo.txt\", \"w\") as f:\n",
    "    f.write(result[\"text\"])\n",
    "\n",
    "    end_time = time.time()\n",
    "    elapsed_time = end_time - start_time\n",
    "\n",
    "print (f'Time spent transcripting: {elapsed_time} seconds')\n"
   ]
  }
 ],
 "metadata": {
  "kernelspec": {
   "display_name": "Python 3",
   "language": "python",
   "name": "python3"
  },
  "language_info": {
   "codemirror_mode": {
    "name": "ipython",
    "version": 3
   },
   "file_extension": ".py",
   "mimetype": "text/x-python",
   "name": "python",
   "nbconvert_exporter": "python",
   "pygments_lexer": "ipython3",
   "version": "3.12.8"
  }
 },
 "nbformat": 4,
 "nbformat_minor": 2
}
