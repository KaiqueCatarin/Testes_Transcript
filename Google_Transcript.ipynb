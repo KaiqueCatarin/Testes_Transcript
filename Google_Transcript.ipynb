{
 "cells": [
  {
   "cell_type": "code",
   "execution_count": 24,
   "metadata": {},
   "outputs": [
    {
     "name": "stdout",
     "output_type": "stream",
     "text": [
      "Transcription complete. Check 'Google_Transcription.txt' for the output.\n"
     ]
    }
   ],
   "source": [
    "import os\n",
    "from google.oauth2 import service_account\n",
    "from google.cloud import speech\n",
    "\n",
    "os.environ ['GOOGLE_APPLICATION_CREDENTIALS'] = 'credentials.json'\n",
    "speech_client = speech.SpeechClient()\n",
    "\n",
    "media_uri = 'gs://teo_dub/Vídeo ML Flow.wav'\n",
    "long_audi_wav = speech.RecognitionAudio(uri=media_uri)\n",
    "\n",
    "config_wav = speech.RecognitionConfig(\n",
    "    sample_rate_hertz=44100,\n",
    "    enable_automatic_punctuation=True,\n",
    "    language_code='pt-BR',\n",
    "    audio_channel_count=2\n",
    ")\n",
    "\n",
    "operation = speech_client.long_running_recognize(\n",
    "    config=config_wav,\n",
    "    audio=long_audi_wav\n",
    ")\n",
    "response = operation.result()\n",
    "\n",
    "with open(\"Google_Transcription.txt\", \"w\", encoding=\"utf-8\") as transcript_file:\n",
    "    # Iterate through the results and write each transcript to the file\n",
    "    for result in response.results:\n",
    "        transcript = result.alternatives[0].transcript\n",
    "        transcript_file.write(f\"{transcript}\\n\")\n",
    "\n",
    "print(\"Transcription complete. Check 'Google_Transcription.txt' for the output.\")"
   ]
  }
 ],
 "metadata": {
  "kernelspec": {
   "display_name": "Python 3",
   "language": "python",
   "name": "python3"
  },
  "language_info": {
   "codemirror_mode": {
    "name": "ipython",
    "version": 3
   },
   "file_extension": ".py",
   "mimetype": "text/x-python",
   "name": "python",
   "nbconvert_exporter": "python",
   "pygments_lexer": "ipython3",
   "version": "3.12.8"
  }
 },
 "nbformat": 4,
 "nbformat_minor": 2
}
